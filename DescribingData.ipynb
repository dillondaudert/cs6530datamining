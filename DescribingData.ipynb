{
 "cells": [
  {
   "cell_type": "markdown",
   "metadata": {},
   "source": [
    "# Assignment 1: Data Description\n",
    "CS 6530\n",
    "Dillon Daudert"
   ]
  },
  {
   "cell_type": "markdown",
   "metadata": {},
   "source": [
    "## Question 1\n",
    "From the file `data.online.txt`, calculate the following statistics about the midterm scores and final scores:\n",
    "1. max, min\n",
    "2. quartiles\n",
    "3. mean\n",
    "4. mode\n",
    "5. variance"
   ]
  },
  {
   "cell_type": "code",
   "execution_count": 8,
   "metadata": {},
   "outputs": [
    {
     "data": {
      "text/html": [
       "<table class=\"data-frame\"><thead><tr><th></th><th>id</th><th>midterm</th><th>final</th></tr></thead><tbody><tr><th>1</th><td>0</td><td>97</td><td>95</td></tr><tr><th>2</th><td>1</td><td>83</td><td>99</td></tr><tr><th>3</th><td>2</td><td>79</td><td>81</td></tr><tr><th>4</th><td>3</td><td>72</td><td>84</td></tr><tr><th>5</th><td>4</td><td>92</td><td>84</td></tr><tr><th>6</th><td>5</td><td>78</td><td>91</td></tr></tbody></table>"
      ],
      "text/plain": [
       "6×3 DataFrames.DataFrame\n",
       "│ Row │ id │ midterm │ final │\n",
       "├─────┼────┼─────────┼───────┤\n",
       "│ 1   │ 0  │ 97      │ 95    │\n",
       "│ 2   │ 1  │ 83      │ 99    │\n",
       "│ 3   │ 2  │ 79      │ 81    │\n",
       "│ 4   │ 3  │ 72      │ 84    │\n",
       "│ 5   │ 4  │ 92      │ 84    │\n",
       "│ 6   │ 5  │ 78      │ 91    │"
      ]
     },
     "execution_count": 8,
     "metadata": {},
     "output_type": "execute_result"
    }
   ],
   "source": [
    "# load the data, tab separated: student_id | mid-term_score | final_score\n",
    "using CSV, DataFrames\n",
    "data = CSV.read(\"./data.online.scores.txt\"; delim='\\t', header=[\"id\", \"midterm\", \"final\"], nullable=false)\n",
    "head(data)"
   ]
  },
  {
   "cell_type": "code",
   "execution_count": 30,
   "metadata": {},
   "outputs": [
    {
     "name": "stdout",
     "output_type": "stream",
     "text": [
      "Midterm scores:\n",
      "Summary Stats:\n",
      "Mean:           76.715000\n",
      "Minimum:        37.000000\n",
      "1st Quartile:   68.000000\n",
      "Median:         77.000000\n",
      "3rd Quartile:   87.000000\n",
      "Maximum:        100.000000\n",
      "Length:         1000\n",
      "Type:           Int64\n",
      "Mode:           77.000000\n",
      "Variance:       173.279054\n"
     ]
    }
   ],
   "source": [
    "print(\"Midterm scores:\\n\")\n",
    "StatsBase.describe(data[:midterm])\n",
    "@printf \"%-15s %3.6f\\n\" \"Mode:\" mode(data[:midterm])\n",
    "@printf \"%-15s %3.6f\\n\" \"Variance:\" var(data[:midterm])"
   ]
  },
  {
   "cell_type": "code",
   "execution_count": 32,
   "metadata": {},
   "outputs": [
    {
     "name": "stdout",
     "output_type": "stream",
     "text": [
      "Final scores:\n",
      "Summary Stats:\n",
      "Mean:           87.084000\n",
      "Minimum:        35.000000\n",
      "1st Quartile:   82.000000\n",
      "Median:         89.000000\n",
      "3rd Quartile:   96.000000\n",
      "Maximum:        100.000000\n",
      "Length:         1000\n",
      "Type:           Int64\n",
      "Mode:           97.000000\n",
      "Variance:       173.279054\n"
     ]
    }
   ],
   "source": [
    "print(\"Final scores:\\n\")\n",
    "StatsBase.describe(data[:final])\n",
    "@printf \"%-15s %3.6f\\n\" \"Mode:\" mode(data[:final])\n",
    "@printf \"%-15s %3.6f\\n\" \"Variance:\" var(data[:midterm])"
   ]
  },
  {
   "cell_type": "markdown",
   "metadata": {},
   "source": [
    "## Question 2\n",
    "Use the data from the same file, normalize the mid-term score using z-score normalization.\n",
    "1. Compare the variance before and after normalization\n",
    "2. Given an initial score of 90, what is the corresponding score after normalization?\n",
    "3. What is the Pearson's correlation coefficient between midterm scores and final scores?\n",
    "4. What is the covariance between midterm scores and final scores?"
   ]
  },
  {
   "cell_type": "code",
   "execution_count": 15,
   "metadata": {},
   "outputs": [
    {
     "data": {
      "text/html": [
       "<table class=\"data-frame\"><thead><tr><th></th><th>norm_midterm</th></tr></thead><tbody><tr><th>1</th><td>1.5409976549567201</td></tr><tr><th>2</th><td>0.4774547824206548</td></tr><tr><th>3</th><td>0.17358539026749326</td></tr><tr><th>4</th><td>-0.35818604600053944</td></tr><tr><th>5</th><td>1.1611609147652682</td></tr><tr><th>6</th><td>0.09761804222920288</td></tr></tbody></table>"
      ],
      "text/plain": [
       "6×1 DataFrames.DataFrame\n",
       "│ Row │ norm_midterm │\n",
       "├─────┼──────────────┤\n",
       "│ 1   │ 1.541        │\n",
       "│ 2   │ 0.477455     │\n",
       "│ 3   │ 0.173585     │\n",
       "│ 4   │ -0.358186    │\n",
       "│ 5   │ 1.16116      │\n",
       "│ 6   │ 0.097618     │"
      ]
     },
     "execution_count": 15,
     "metadata": {},
     "output_type": "execute_result"
    }
   ],
   "source": [
    "normalized_midterm = (data[:midterm] .- mean(data[:midterm]))./std(data[:midterm])\n",
    "head(DataFrame(norm_midterm = normalized_midterm))"
   ]
  },
  {
   "cell_type": "code",
   "execution_count": 25,
   "metadata": {},
   "outputs": [
    {
     "data": {
      "text/plain": [
       "2×2 Array{Float64,2}:\n",
       " 1.0       0.544425\n",
       " 0.544425  1.0     "
      ]
     },
     "metadata": {},
     "output_type": "display_data"
    },
    {
     "data": {
      "text/plain": [
       "2×2 Array{Float64,2}:\n",
       " 173.279    78.2542\n",
       "  78.2542  119.232 "
      ]
     },
     "metadata": {},
     "output_type": "display_data"
    }
   ],
   "source": [
    "display(cor([data[:midterm] data[:final]]))\n",
    "display(cov([data[:midterm] data[:final]]))"
   ]
  },
  {
   "cell_type": "code",
   "execution_count": null,
   "metadata": {},
   "outputs": [],
   "source": []
  }
 ],
 "metadata": {
  "kernelspec": {
   "display_name": "Julia 0.6.2",
   "language": "julia",
   "name": "julia-0.6"
  },
  "language_info": {
   "file_extension": ".jl",
   "mimetype": "application/julia",
   "name": "julia",
   "version": "0.6.2"
  }
 },
 "nbformat": 4,
 "nbformat_minor": 2
}
