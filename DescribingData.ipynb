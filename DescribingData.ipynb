{
 "cells": [
  {
   "cell_type": "markdown",
   "metadata": {},
   "source": [
    "# Assignment 1: Data Description\n",
    "CS 6530\n",
    "Dillon Daudert"
   ]
  },
  {
   "cell_type": "markdown",
   "metadata": {},
   "source": [
    "## Question 1\n",
    "From the file `data.online.txt`, calculate the following statistics about the midterm scores and final scores:\n",
    "1. max, min\n",
    "2. quartiles\n",
    "3. mean\n",
    "4. mode\n",
    "5. variance"
   ]
  },
  {
   "cell_type": "code",
   "execution_count": 1,
   "metadata": {},
   "outputs": [
    {
     "name": "stderr",
     "output_type": "stream",
     "text": [
      "\u001b[1m\u001b[36mINFO: \u001b[39m\u001b[22m\u001b[36mRecompiling stale cache file /home/dillon/.julia/lib/v0.6/CSV.ji for module CSV.\n",
      "\u001b[39m"
     ]
    },
    {
     "data": {
      "text/html": [
       "<table class=\"data-frame\"><thead><tr><th></th><th>id</th><th>midterm</th><th>final</th></tr></thead><tbody><tr><th>1</th><td>0</td><td>97</td><td>95</td></tr><tr><th>2</th><td>1</td><td>83</td><td>99</td></tr><tr><th>3</th><td>2</td><td>79</td><td>81</td></tr><tr><th>4</th><td>3</td><td>72</td><td>84</td></tr><tr><th>5</th><td>4</td><td>92</td><td>84</td></tr><tr><th>6</th><td>5</td><td>78</td><td>91</td></tr></tbody></table>"
      ],
      "text/plain": [
       "6×3 DataFrames.DataFrame\n",
       "│ Row │ id │ midterm │ final │\n",
       "├─────┼────┼─────────┼───────┤\n",
       "│ 1   │ 0  │ 97      │ 95    │\n",
       "│ 2   │ 1  │ 83      │ 99    │\n",
       "│ 3   │ 2  │ 79      │ 81    │\n",
       "│ 4   │ 3  │ 72      │ 84    │\n",
       "│ 5   │ 4  │ 92      │ 84    │\n",
       "│ 6   │ 5  │ 78      │ 91    │"
      ]
     },
     "execution_count": 1,
     "metadata": {},
     "output_type": "execute_result"
    }
   ],
   "source": [
    "# load the data, tab separated: student_id | mid-term_score | final_score\n",
    "using CSV, DataFrames, StatsBase\n",
    "data = CSV.read(\"./A1/data.online.scores.txt\"; delim='\\t', header=[\"id\", \"midterm\", \"final\"], allowmissing=:none)\n",
    "head(data)"
   ]
  },
  {
   "cell_type": "code",
   "execution_count": 2,
   "metadata": {},
   "outputs": [
    {
     "name": "stdout",
     "output_type": "stream",
     "text": [
      "Midterm scores:\n",
      "Summary Stats:\n",
      "Mean:           76.715000\n",
      "Minimum:        37.000000\n",
      "1st Quartile:   68.000000\n",
      "Median:         77.000000\n",
      "3rd Quartile:   87.000000\n",
      "Maximum:        100.000000\n",
      "Length:         1000\n",
      "Type:           Int64\n",
      "Mode:           77.000000\n",
      "Variance:       173.279054\n"
     ]
    }
   ],
   "source": [
    "print(\"Midterm scores:\\n\")\n",
    "describe(data[:midterm])\n",
    "@printf \"%-15s %3.6f\\n\" \"Mode:\" mode(data[:midterm])\n",
    "@printf \"%-15s %3.6f\\n\" \"Variance:\" var(data[:midterm])"
   ]
  },
  {
   "cell_type": "code",
   "execution_count": 3,
   "metadata": {},
   "outputs": [
    {
     "name": "stdout",
     "output_type": "stream",
     "text": [
      "Final scores:\n",
      "Summary Stats:\n",
      "Mean:           87.084000\n",
      "Minimum:        35.000000\n",
      "1st Quartile:   82.000000\n",
      "Median:         89.000000\n",
      "3rd Quartile:   96.000000\n",
      "Maximum:        100.000000\n",
      "Length:         1000\n",
      "Type:           Int64\n",
      "Mode:           97.000000\n",
      "Variance:       173.279054\n"
     ]
    }
   ],
   "source": [
    "print(\"Final scores:\\n\")\n",
    "describe(data[:final])\n",
    "@printf \"%-15s %3.6f\\n\" \"Mode:\" mode(data[:final])\n",
    "@printf \"%-15s %3.6f\\n\" \"Variance:\" var(data[:midterm])"
   ]
  },
  {
   "cell_type": "markdown",
   "metadata": {},
   "source": [
    "## Question 2\n",
    "Use the data from the same file, normalize the mid-term score using z-score normalization.\n",
    "1. Compare the variance before and after normalization\n",
    "2. Given an initial score of 90, what is the corresponding score after normalization?\n",
    "3. What is the Pearson's correlation coefficient between midterm scores and final scores?\n",
    "4. What is the covariance between midterm scores and final scores?"
   ]
  },
  {
   "cell_type": "code",
   "execution_count": 4,
   "metadata": {},
   "outputs": [
    {
     "name": "stdout",
     "output_type": "stream",
     "text": [
      "Midterm variance: 173.28, after normalization: 1.00"
     ]
    }
   ],
   "source": [
    "normalized_midterm = (data[:midterm] .- mean(data[:midterm]))./std(data[:midterm])\n",
    "@printf \"Midterm variance: %3.2f, after normalization: %3.2f\" var(data[:midterm]) var(normalized_midterm)"
   ]
  },
  {
   "cell_type": "code",
   "execution_count": 5,
   "metadata": {},
   "outputs": [
    {
     "name": "stdout",
     "output_type": "stream",
     "text": [
      "Initial score of 90 after normalization: 1.01"
     ]
    }
   ],
   "source": [
    "@printf \"Initial score of 90 after normalization: %3.2f\" (90. - mean(data[:midterm])) / std(data[:midterm])"
   ]
  },
  {
   "cell_type": "code",
   "execution_count": 6,
   "metadata": {},
   "outputs": [
    {
     "name": "stdout",
     "output_type": "stream",
     "text": [
      "Pearson's correlation coefficient between midterm and final scores:"
     ]
    },
    {
     "data": {
      "text/plain": [
       "2×2 Array{Float64,2}:\n",
       " 1.0       0.544425\n",
       " 0.544425  1.0     "
      ]
     },
     "execution_count": 6,
     "metadata": {},
     "output_type": "execute_result"
    }
   ],
   "source": [
    "print(\"Pearson's correlation coefficient between midterm and final scores:\")\n",
    "cor([data[:midterm] data[:final]])"
   ]
  },
  {
   "cell_type": "code",
   "execution_count": 7,
   "metadata": {},
   "outputs": [
    {
     "name": "stdout",
     "output_type": "stream",
     "text": [
      "Covariance between midterm and final scores:"
     ]
    },
    {
     "data": {
      "text/plain": [
       "2×2 Array{Float64,2}:\n",
       " 173.279    78.2542\n",
       "  78.2542  119.232 "
      ]
     },
     "execution_count": 7,
     "metadata": {},
     "output_type": "execute_result"
    }
   ],
   "source": [
    "print(\"Covariance between midterm and final scores:\")\n",
    "cov([data[:midterm] data[:final]])"
   ]
  },
  {
   "cell_type": "markdown",
   "metadata": {},
   "source": [
    "## Question 3\n",
    "Given the inventories of two libraries, compare the similarity between the two libraries by using different proximity measures.\n",
    "- Using 200 books, Table 1 summarizes how many books are supplied by corresponding library. For example, the table cell for CBL=0 and CML=0 is 20, which means there are 20 books that are served neither by CBL nor CML. The table cell for CBL=1 and CML=0 is 2, which means that there are 2 books that are served by CBL but not CML. Using Table 1, calculate the Jaccard coefficient of CBL and CML."
   ]
  },
  {
   "cell_type": "code",
   "execution_count": 8,
   "metadata": {},
   "outputs": [
    {
     "name": "stderr",
     "output_type": "stream",
     "text": [
      "\u001b[1m\u001b[36mINFO: \u001b[39m\u001b[22m\u001b[36mPrecompiling module Distances.\n",
      "\u001b[39m"
     ]
    }
   ],
   "source": [
    "using Distances"
   ]
  },
  {
   "cell_type": "code",
   "execution_count": 9,
   "metadata": {},
   "outputs": [
    {
     "name": "stdout",
     "output_type": "stream",
     "text": [
      "Jaccard coefficient: 0.322"
     ]
    }
   ],
   "source": [
    "# Jaccard similarity coefficient of two sets is defined as the size of the intersection divided by the size of the union\n",
    "intersection = 58\n",
    "union = 120 + 2 + 58\n",
    "jaccard = intersection / union\n",
    "@printf \"Jaccard coefficient: %.3f\" jaccard"
   ]
  },
  {
   "cell_type": "markdown",
   "metadata": {},
   "source": [
    "- File `data.libraries.inventories.txt` has two data records, on record for each library. Each record shows # of copies of 100 selected books the library owns. Calculate the Minkowski distance of the two records with regard to different h values.\n",
    "  1. h = 1\n",
    "  2. h = 2\n",
    "  3. h = `Inf`"
   ]
  },
  {
   "cell_type": "code",
   "execution_count": 32,
   "metadata": {},
   "outputs": [
    {
     "data": {
      "text/html": [
       "<table class=\"data-frame\"><thead><tr><th></th><th>library</th><th>book_1</th><th>book_2</th><th>book_3</th><th>book_4</th><th>book_5</th><th>book_6</th><th>book_7</th><th>book_8</th><th>book_9</th><th>book_10</th><th>book_11</th><th>book_12</th><th>book_13</th><th>book_14</th><th>book_15</th><th>book_16</th><th>book_17</th><th>book_18</th><th>book_19</th><th>book_20</th><th>book_21</th><th>book_22</th><th>book_23</th><th>book_24</th><th>book_25</th><th>book_26</th><th>book_27</th><th>book_28</th><th>book_29</th><th>book_30</th><th>book_31</th><th>book_32</th><th>book_33</th><th>book_34</th><th>book_35</th><th>book_36</th><th>book_37</th><th>book_38</th><th>book_39</th><th>book_40</th><th>book_41</th><th>book_42</th><th>book_43</th><th>book_44</th><th>book_45</th><th>book_46</th><th>book_47</th><th>book_48</th><th>book_49</th><th>book_50</th><th>book_51</th><th>book_52</th><th>book_53</th><th>book_54</th><th>book_55</th><th>book_56</th><th>book_57</th><th>book_58</th><th>book_59</th><th>book_60</th><th>book_61</th><th>book_62</th><th>book_63</th><th>book_64</th><th>book_65</th><th>book_66</th><th>book_67</th><th>book_68</th><th>book_69</th><th>book_70</th><th>book_71</th><th>book_72</th><th>book_73</th><th>book_74</th><th>book_75</th><th>book_76</th><th>book_77</th><th>book_78</th><th>book_79</th><th>book_80</th><th>book_81</th><th>book_82</th><th>book_83</th><th>book_84</th><th>book_85</th><th>book_86</th><th>book_87</th><th>book_88</th><th>book_89</th><th>book_90</th><th>book_91</th><th>book_92</th><th>book_93</th><th>book_94</th><th>book_95</th><th>book_96</th><th>book_97</th><th>book_98</th><th>book_99</th><th>book_100</th></tr></thead><tbody><tr><th>1</th><td>CML</td><td>53</td><td>136</td><td>90</td><td>103</td><td>36</td><td>93</td><td>195</td><td>51</td><td>192</td><td>148</td><td>79</td><td>30</td><td>48</td><td>80</td><td>242</td><td>77</td><td>170</td><td>137</td><td>41</td><td>146</td><td>116</td><td>186</td><td>101</td><td>173</td><td>110</td><td>50</td><td>149</td><td>139</td><td>30</td><td>119</td><td>86</td><td>97</td><td>25</td><td>63</td><td>173</td><td>130</td><td>60</td><td>148</td><td>129</td><td>69</td><td>167</td><td>83</td><td>121</td><td>28</td><td>133</td><td>173</td><td>149</td><td>105</td><td>64</td><td>134</td><td>137</td><td>21</td><td>179</td><td>116</td><td>35</td><td>119</td><td>60</td><td>140</td><td>150</td><td>68</td><td>145</td><td>197</td><td>80</td><td>73</td><td>128</td><td>3</td><td>180</td><td>96</td><td>111</td><td>95</td><td>122</td><td>132</td><td>64</td><td>181</td><td>165</td><td>129</td><td>79</td><td>63</td><td>72</td><td>187</td><td>99</td><td>143</td><td>49</td><td>131</td><td>84</td><td>179</td><td>215</td><td>112</td><td>76</td><td>64</td><td>50</td><td>144</td><td>46</td><td>110</td><td>163</td><td>183</td><td>107</td><td>129</td><td>162</td><td>173</td></tr><tr><th>2</th><td>CBL</td><td>103</td><td>80</td><td>132</td><td>167</td><td>144</td><td>172</td><td>108</td><td>89</td><td>103</td><td>63</td><td>65</td><td>58</td><td>141</td><td>116</td><td>152</td><td>122</td><td>129</td><td>83</td><td>175</td><td>116</td><td>173</td><td>67</td><td>61</td><td>114</td><td>195</td><td>166</td><td>85</td><td>42</td><td>87</td><td>183</td><td>217</td><td>125</td><td>109</td><td>71</td><td>93</td><td>71</td><td>77</td><td>209</td><td>134</td><td>59</td><td>99</td><td>147</td><td>75</td><td>50</td><td>181</td><td>102</td><td>173</td><td>160</td><td>147</td><td>97</td><td>90</td><td>57</td><td>151</td><td>100</td><td>102</td><td>181</td><td>118</td><td>163</td><td>141</td><td>146</td><td>149</td><td>149</td><td>250</td><td>128</td><td>155</td><td>148</td><td>123</td><td>189</td><td>80</td><td>186</td><td>80</td><td>114</td><td>102</td><td>31</td><td>66</td><td>34</td><td>59</td><td>213</td><td>104</td><td>251</td><td>31</td><td>75</td><td>164</td><td>214</td><td>53</td><td>79</td><td>118</td><td>75</td><td>169</td><td>192</td><td>92</td><td>139</td><td>122</td><td>123</td><td>123</td><td>61</td><td>135</td><td>90</td><td>125</td><td>118</td></tr></tbody></table>"
      ],
      "text/plain": [
       "2×101 DataFrames.DataFrame. Omitted printing of 93 columns\n",
       "│ Row │ library │ book_1 │ book_2 │ book_3 │ book_4 │ book_5 │ book_6 │ book_7 │\n",
       "├─────┼─────────┼────────┼────────┼────────┼────────┼────────┼────────┼────────┤\n",
       "│ 1   │ CML     │ 53     │ 136    │ 90     │ 103    │ 36     │ 93     │ 195    │\n",
       "│ 2   │ CBL     │ 103    │ 80     │ 132    │ 167    │ 144    │ 172    │ 108    │"
      ]
     },
     "execution_count": 32,
     "metadata": {},
     "output_type": "execute_result"
    }
   ],
   "source": [
    "inv_data = CSV.read(\"./A1/data.libraries.inventories.txt\", delim='\\t', allowmissing=:none)\n",
    "head(inv_data)"
   ]
  },
  {
   "cell_type": "code",
   "execution_count": 28,
   "metadata": {},
   "outputs": [
    {
     "name": "stdout",
     "output_type": "stream",
     "text": [
      "Minkowski h₁: 6152.000\n",
      "Minkowski h₂: 715.328\n",
      "Minkowski h=∞: 170.000\n"
     ]
    }
   ],
   "source": [
    "# h = 1\n",
    "h₁ = minkowski(Array(inv_data[1, 2:end]), Array(inv_data[2, 2:end]), 1)\n",
    "@printf \"Minkowski h₁: %3.3f\\n\" h₁\n",
    "# h = 2\n",
    "h₂ = minkowski(Array(inv_data[1, 2:end]), Array(inv_data[2, 2:end]), 2)\n",
    "@printf \"Minkowski h₂: %3.3f\\n\" h₂\n",
    "# h = ∞\n",
    "h₃ = chebyshev(Array(inv_data[1, 2:end]), Array(inv_data[2, 2:end]))\n",
    "@printf \"Minkowski h=∞: %3.3f\\n\" h₃"
   ]
  },
  {
   "cell_type": "markdown",
   "metadata": {},
   "source": [
    "- Calculate the cosine similary between the two libraries"
   ]
  },
  {
   "cell_type": "code",
   "execution_count": 29,
   "metadata": {},
   "outputs": [
    {
     "name": "stdout",
     "output_type": "stream",
     "text": [
      "Cosine distance: 0.159"
     ]
    }
   ],
   "source": [
    "cos_d = cosine_dist(Array(inv_data[1, 2:end]), Array(inv_data[2, 2:end]))\n",
    "@printf \"Cosine distance: %3.3f\" cos_d"
   ]
  },
  {
   "cell_type": "markdown",
   "metadata": {},
   "source": [
    "- Calculate the KL divergence between the two libraries. Assume a person picks up a book in the library randomly. The probability that they pick up book i is therefore bᵢ/(sumₖ(bₖ))"
   ]
  },
  {
   "cell_type": "code",
   "execution_count": 34,
   "metadata": {},
   "outputs": [
    {
     "data": {
      "text/plain": [
       "1×100 Array{Float64,2}:\n",
       " 0.00473088  0.0121396  0.00803356  …  0.0115148  0.0144604  0.0154423"
      ]
     },
     "execution_count": 34,
     "metadata": {},
     "output_type": "execute_result"
    }
   ],
   "source": [
    "cml_prob = Array(inv_data[1, 2:end]) ./ sum(Array(inv_data[1, 2:end]))\n",
    "cml_prob"
   ]
  },
  {
   "cell_type": "code",
   "execution_count": 36,
   "metadata": {},
   "outputs": [
    {
     "data": {
      "text/plain": [
       "1×100 Array{Float64,2}:\n",
       " 0.00855127  0.00664176  0.0109589  …  0.00747198  0.0103778  0.0097966"
      ]
     },
     "execution_count": 36,
     "metadata": {},
     "output_type": "execute_result"
    }
   ],
   "source": [
    "cbl_prob = Array(inv_data[2, 2:end]) ./ sum(Array(inv_data[2, 2:end]))\n",
    "cbl_prob"
   ]
  },
  {
   "cell_type": "code",
   "execution_count": 39,
   "metadata": {},
   "outputs": [
    {
     "name": "stdout",
     "output_type": "stream",
     "text": [
      "KL Divergence of CML and CBL: 0.207\n",
      "KL Divergence of CBL and CML: 0.230\n"
     ]
    }
   ],
   "source": [
    "kl_d₁ = kl_divergence(cml_prob, cbl_prob)\n",
    "kl_d₂ = kl_divergence(cbl_prob, cml_prob)\n",
    "@printf \"KL Divergence of CML and CBL: %3.3f\\n\" kl_d₁\n",
    "@printf \"KL Divergence of CBL and CML: %3.3f\\n\" kl_d₂\n"
   ]
  },
  {
   "cell_type": "markdown",
   "metadata": {},
   "source": [
    "## Question 4\n",
    "Using Table 2, calculate the chi-squared correlation value."
   ]
  },
  {
   "cell_type": "code",
   "execution_count": null,
   "metadata": {},
   "outputs": [],
   "source": []
  }
 ],
 "metadata": {
  "kernelspec": {
   "display_name": "Julia 0.6.2",
   "language": "julia",
   "name": "julia-0.6"
  },
  "language_info": {
   "file_extension": ".jl",
   "mimetype": "application/julia",
   "name": "julia",
   "version": "0.6.2"
  }
 },
 "nbformat": 4,
 "nbformat_minor": 2
}
